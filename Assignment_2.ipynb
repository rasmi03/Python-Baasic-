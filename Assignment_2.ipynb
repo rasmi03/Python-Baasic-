{
 "cells": [
  {
   "cell_type": "markdown",
   "id": "817cc5de",
   "metadata": {},
   "source": [
    "### 1. What are the Boolean data type's two values? How do you go about writing them?\n",
    " Ans:-   There are two type boolean data type.\n",
    "          a> True\n",
    "          b> False\n",
    "          \n",
    "          Here first letter must be capital and others are small"
   ]
  },
  {
   "cell_type": "code",
   "execution_count": 5,
   "id": "01cae246",
   "metadata": {},
   "outputs": [
    {
     "name": "stdout",
     "output_type": "stream",
     "text": [
      "True <class 'bool'>\n",
      "False <class 'bool'>\n"
     ]
    }
   ],
   "source": [
    "a=True\n",
    "b=False\n",
    "print(a, type(a))\n",
    "print(b,type(b))"
   ]
  },
  {
   "cell_type": "code",
   "execution_count": 7,
   "id": "3920a210",
   "metadata": {},
   "outputs": [
    {
     "data": {
      "text/plain": [
       "bool"
      ]
     },
     "execution_count": 7,
     "metadata": {},
     "output_type": "execute_result"
    }
   ],
   "source": [
    "type(False)\n"
   ]
  },
  {
   "cell_type": "code",
   "execution_count": 8,
   "id": "c076bcf8",
   "metadata": {},
   "outputs": [
    {
     "data": {
      "text/plain": [
       "bool"
      ]
     },
     "execution_count": 8,
     "metadata": {},
     "output_type": "execute_result"
    }
   ],
   "source": [
    "type(True)"
   ]
  },
  {
   "cell_type": "markdown",
   "id": "29ab43bd",
   "metadata": {},
   "source": [
    "### 2.What are the three different types of Boolean operators?\n",
    "        these are :-  and , or  , not"
   ]
  },
  {
   "cell_type": "markdown",
   "id": "31594962",
   "metadata": {},
   "source": [
    "### 3 Make a list of each Boolean operator's truth tables (i.e. every possible combination of Boolean values for the operator and what it evaluate ).\n",
    "\n",
    "\n",
    "      Ans:The Truth tables for the boolean tables are as follows:  \n",
    "      \n",
    "      \n",
    "    `and` operaotor:-  \n",
    "    True and True is True   \n",
    "    True and False is False  \n",
    "    False and True is False  \n",
    "    False and False is False_\n",
    "    \n",
    "    \n",
    "    \"or\"   Operator\n",
    "    \n",
    "    True and True is True   \n",
    "    True and False is True  \n",
    "    False and True is True  \n",
    "    False and False is False_\n",
    "    \n",
    "    \n",
    "   `not` operaotor       \n",
    "    _True not is False\n",
    "    False not is True_"
   ]
  },
  {
   "cell_type": "markdown",
   "id": "7c3852ee",
   "metadata": {},
   "source": [
    "### 4. What are the values of the following expressions?\n",
    "\n",
    "       A> (5 > 4) and (3 == 5)\n",
    "       B> not (5 > 4)\n",
    "       C> (5 > 4) or (3 == 5)\n",
    "       D>  not ((5 > 4) or (3 == 5))\n",
    "       E> (True and True) and (True == False)\n",
    "       F> (not False) or (not True)\n"
   ]
  },
  {
   "cell_type": "code",
   "execution_count": 19,
   "id": "c778796a",
   "metadata": {},
   "outputs": [
    {
     "name": "stdout",
     "output_type": "stream",
     "text": [
      " Expression of  A Result :-  False\n",
      " Expression of  B Result :-  False\n",
      " Expression of  C Result :-  True\n",
      " Expression of  D Result :-  False\n",
      " Expression of  E Result :-  False\n",
      " Expression of  F Result :-  True\n"
     ]
    }
   ],
   "source": [
    "\n",
    "print(\" Expression of  A Result :- \",(5 > 4) and (3 == 5))\n",
    "print(\" Expression of  B Result :- \", not (5 > 4))\n",
    "print(\" Expression of  C Result :- \", (5 > 4) or (3 == 5))\n",
    "print(\" Expression of  D Result :- \", not ((5 > 4) or (3 == 5)))\n",
    "print(\" Expression of  E Result :- \", (True and True) and (True == False))\n",
    "print(\" Expression of  F Result :- \", (not False) or (not True))\n"
   ]
  },
  {
   "cell_type": "markdown",
   "id": "db4013d5",
   "metadata": {},
   "source": [
    "#### 5. What are the six comparison operators?\n",
    "            Ans:  The Six comparision operators available in python are:  \n",
    "                                    \n",
    "                    1. <  greater than\n",
    "                    2. >  less than\n",
    "                    3. <= less than equal to\n",
    "                    4. >= greater than equal to\n",
    "                    5. == equal to\n",
    "                    6. != not equal to"
   ]
  },
  {
   "cell_type": "markdown",
   "id": "c7cfa1ef",
   "metadata": {},
   "source": [
    "#### 6. How do you tell the difference between the equal to and assignment operators?Describe a condition and when you would use one ? \n",
    "          Ans: `==` is the equal to operator that compares two values and gives output as a Boolean Type, \n",
    "               `=`  is that assignment operator that assign any data type values to a variable.\n"
   ]
  },
  {
   "cell_type": "code",
   "execution_count": 34,
   "id": "5e672397",
   "metadata": {},
   "outputs": [],
   "source": [
    "          x=24              # Assigning operator that stores 24 value in a variable x\n",
    "        \n",
    "        "
   ]
  },
  {
   "cell_type": "code",
   "execution_count": 35,
   "id": "7d40f98c",
   "metadata": {},
   "outputs": [
    {
     "name": "stdout",
     "output_type": "stream",
     "text": [
      "True\n"
     ]
    }
   ],
   "source": [
    " if x==24:  #comparing values of 'a' varible value and '24'\n",
    "        print(x==24)"
   ]
  },
  {
   "cell_type": "markdown",
   "id": "1ab62a18",
   "metadata": {},
   "source": [
    "### 8. Recognize the following three blocks in this code:\n",
    "\n",
    "        spam = 0\n",
    "       if spam == 10:\n",
    "           print('eggs')\n",
    "        if spam > 5:\n",
    "             print('bacon')\n",
    "         else:\n",
    "            print('ham')\n",
    "         print('spam')\n",
    "         print('spam')\n"
   ]
  },
  {
   "cell_type": "code",
   "execution_count": 4,
   "id": "07b92ccd",
   "metadata": {},
   "outputs": [
    {
     "name": "stdout",
     "output_type": "stream",
     "text": [
      "ham\n",
      "spam\n",
      "spam\n"
     ]
    }
   ],
   "source": [
    "spam= 0\n",
    "if spam==10:\n",
    "    print('eggs')  # block-1\n",
    "if spam >5:\n",
    "    print('bacon') # block-2\n",
    "else:\n",
    "    print('ham') # block-3\n",
    "print('spam') \n",
    "print('spam')"
   ]
  },
  {
   "cell_type": "markdown",
   "id": "bcfcb251",
   "metadata": {},
   "source": [
    "### 9. Create a programme that prints. If 1 is stored in spam, prints Hello; if 2 is stored in spam, prints Howdy; and if 3 is stored in spam, prints Salutations! if there's something else in spam."
   ]
  },
  {
   "cell_type": "code",
   "execution_count": 5,
   "id": "9b29f41d",
   "metadata": {},
   "outputs": [],
   "source": [
    "def sample(spam):\n",
    "    if spam==1:\n",
    "        print('Hello')\n",
    "    elif spam==2:\n",
    "        print(\"Howdy\")\n",
    "    else:\n",
    "        print('Greeting')\n",
    "        "
   ]
  },
  {
   "cell_type": "code",
   "execution_count": 6,
   "id": "257bf2b8",
   "metadata": {},
   "outputs": [
    {
     "name": "stdout",
     "output_type": "stream",
     "text": [
      "Hello\n",
      "Howdy\n",
      "Greeting\n"
     ]
    }
   ],
   "source": [
    "sample(1)\n",
    "sample(2)\n",
    "sample(3)"
   ]
  },
  {
   "cell_type": "markdown",
   "id": "362aeb22",
   "metadata": {},
   "source": [
    "### 10.If your programme is stuck in an endless loop, what keys can you press?\n",
    "          1.  In case of jupyter we can stop kernal.\n",
    "           2. In case of command line prompt press Ctrl+C"
   ]
  },
  {
   "cell_type": "markdown",
   "id": "e6f0e668",
   "metadata": {},
   "source": [
    "### 11. How can you tell the difference between break and continue?\n",
    "                               The `break` statement will stop the execution when condtion is satisfied. `                                                       continue` statement will continue the execution to the start of the loop until the loop is                                       completed."
   ]
  },
  {
   "cell_type": "code",
   "execution_count": 9,
   "id": "f0803432",
   "metadata": {},
   "outputs": [
    {
     "name": "stdout",
     "output_type": "stream",
     "text": [
      "0\n",
      "1\n",
      "2\n",
      "3\n"
     ]
    }
   ],
   "source": [
    " for i in range(7):\n",
    "        if i==4:\n",
    "            break\n",
    "        print(i)"
   ]
  },
  {
   "cell_type": "code",
   "execution_count": 10,
   "id": "858b1ba7",
   "metadata": {},
   "outputs": [
    {
     "name": "stdout",
     "output_type": "stream",
     "text": [
      "0\n",
      "1\n",
      "2\n",
      "3\n",
      "5\n",
      "6\n"
     ]
    }
   ],
   "source": [
    "for i in range(7):\n",
    "        if i==4:\n",
    "            continue\n",
    "        print(i)"
   ]
  },
  {
   "cell_type": "markdown",
   "id": "0295ee8e",
   "metadata": {},
   "source": [
    "### 12. In a for loop, what is the difference between range(10), range(0, 10), and range(0, 10, 1)?\n",
    "                            \n",
    "                        range(10) here starting point is not given but bydefault it takes zero & end at nine\n",
    "                        range(0, 10) here intial point is zero given but both have same values\n",
    "                        range(0,10,1) here one is the increament value\n",
    "                        above three have same output as follows"
   ]
  },
  {
   "cell_type": "code",
   "execution_count": 20,
   "id": "a17fa319",
   "metadata": {},
   "outputs": [
    {
     "name": "stdout",
     "output_type": "stream",
     "text": [
      "0  1  2  3  4  5  6  7  8  9  "
     ]
    }
   ],
   "source": [
    "range(10)\n",
    "for i in range(10):\n",
    "    print(i , end= \"  \")"
   ]
  },
  {
   "cell_type": "code",
   "execution_count": 21,
   "id": "b8690fc8",
   "metadata": {},
   "outputs": [
    {
     "name": "stdout",
     "output_type": "stream",
     "text": [
      "0   1   2   3   4   5   6   7   8   9   "
     ]
    }
   ],
   "source": [
    "for i in range(0,10):\n",
    "    print(i, end=\"   \")"
   ]
  },
  {
   "cell_type": "code",
   "execution_count": 22,
   "id": "cf2ac6df",
   "metadata": {},
   "outputs": [
    {
     "name": "stdout",
     "output_type": "stream",
     "text": [
      "0  1  2  3  4  5  6  7  8  9  "
     ]
    }
   ],
   "source": [
    "for i in range(0,10,1):\n",
    "    print(i , end=\"  \")"
   ]
  },
  {
   "cell_type": "markdown",
   "id": "f504f705",
   "metadata": {},
   "source": [
    "### 13. Using a for loop, write a short programme that prints the numbers 1 to 10 Then, using a while loop, create an identical programme that prints the numbers 1 to 10."
   ]
  },
  {
   "cell_type": "code",
   "execution_count": 23,
   "id": "949d2aed",
   "metadata": {},
   "outputs": [
    {
     "name": "stdout",
     "output_type": "stream",
     "text": [
      "1  2  3  4  5  6  7  8  9  10  "
     ]
    }
   ],
   "source": [
    "for i in range(1,11):\n",
    "    print(i , end=\"  \")"
   ]
  },
  {
   "cell_type": "code",
   "execution_count": 2,
   "id": "118b0496",
   "metadata": {},
   "outputs": [
    {
     "name": "stdout",
     "output_type": "stream",
     "text": [
      "1  2  3  4  5  6  7  8  9  10  "
     ]
    }
   ],
   "source": [
    "i=1\n",
    "while i <= 10:\n",
    "    print(i , end= \"  \")\n",
    "    i+=1\n",
    "    "
   ]
  },
  {
   "cell_type": "markdown",
   "id": "e3cfdbbb",
   "metadata": {},
   "source": [
    "### 14. If you had a bacon() function within a spam module, what would you call it after importing spam?\n",
    "\n",
    "            spam.bacon()\n",
    "            from spam import bacon"
   ]
  },
  {
   "cell_type": "code",
   "execution_count": null,
   "id": "f3852f6a",
   "metadata": {},
   "outputs": [],
   "source": []
  },
  {
   "cell_type": "code",
   "execution_count": null,
   "id": "77ef20e4",
   "metadata": {},
   "outputs": [],
   "source": []
  }
 ],
 "metadata": {
  "kernelspec": {
   "display_name": "Python 3",
   "language": "python",
   "name": "python3"
  },
  "language_info": {
   "codemirror_mode": {
    "name": "ipython",
    "version": 3
   },
   "file_extension": ".py",
   "mimetype": "text/x-python",
   "name": "python",
   "nbconvert_exporter": "python",
   "pygments_lexer": "ipython3",
   "version": "3.8.8"
  }
 },
 "nbformat": 4,
 "nbformat_minor": 5
}
