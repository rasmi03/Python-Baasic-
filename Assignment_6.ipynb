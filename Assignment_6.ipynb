{
 "cells": [
  {
   "cell_type": "markdown",
   "id": "feb40cd2",
   "metadata": {},
   "source": [
    "### 1. What are escape characters, and how do you use them?\n",
    "        Escape charters are comsists of back slash followed by characters , these are\n",
    "        \\n     for new line\n",
    "        \\\\     for  back slash\n",
    "        \\t     for tab\n",
    "        \\'     for single qoute\n",
    "        \\\"     for double quote\n",
    "        \n",
    "        "
   ]
  },
  {
   "cell_type": "code",
   "execution_count": 8,
   "id": "71a5bad6",
   "metadata": {},
   "outputs": [
    {
     "name": "stdout",
     "output_type": "stream",
     "text": [
      "hello\n",
      "i am rasmi\n",
      "how are you\n"
     ]
    }
   ],
   "source": [
    "print('hello\\ni am rasmi\\nhow are you')"
   ]
  },
  {
   "cell_type": "code",
   "execution_count": 6,
   "id": "f40bf4b9",
   "metadata": {},
   "outputs": [
    {
     "name": "stdout",
     "output_type": "stream",
     "text": [
      "hello I'm fine\n"
     ]
    }
   ],
   "source": [
    "print(\"hello I\\'m fine\")"
   ]
  },
  {
   "cell_type": "code",
   "execution_count": 7,
   "id": "f233c69d",
   "metadata": {},
   "outputs": [
    {
     "name": "stdout",
     "output_type": "stream",
     "text": [
      "hello I\"m fine\n"
     ]
    }
   ],
   "source": [
    "print(\"hello I\\\"m fine\")"
   ]
  },
  {
   "cell_type": "code",
   "execution_count": 9,
   "id": "02cac067",
   "metadata": {},
   "outputs": [
    {
     "name": "stdout",
     "output_type": "stream",
     "text": [
      "hello i\tam rasmi\n",
      "how are you\n"
     ]
    }
   ],
   "source": [
    "print('hello i\\tam rasmi\\nhow are you')"
   ]
  },
  {
   "cell_type": "markdown",
   "id": "b69a4774",
   "metadata": {},
   "source": [
    "### 2.What do the escape characters n and t stand for ?\n",
    "            n for new line\n",
    "            t for tab"
   ]
  },
  {
   "cell_type": "code",
   "execution_count": 10,
   "id": "d35d03ce",
   "metadata": {},
   "outputs": [
    {
     "name": "stdout",
     "output_type": "stream",
     "text": [
      "hello\n",
      "i am rasmi\n",
      "how are you\n"
     ]
    }
   ],
   "source": [
    "print('hello\\ni am rasmi\\nhow are you')  # for \\n "
   ]
  },
  {
   "cell_type": "code",
   "execution_count": 12,
   "id": "367f6bb2",
   "metadata": {},
   "outputs": [
    {
     "name": "stdout",
     "output_type": "stream",
     "text": [
      "hello i\tam rasmi\thow are you?\n"
     ]
    }
   ],
   "source": [
    "print('hello i\\tam rasmi\\thow are you?')"
   ]
  },
  {
   "cell_type": "markdown",
   "id": "d06992b5",
   "metadata": {},
   "source": [
    "### 3. What is the way to include backslash characters in a string?\n",
    "        it is represented by \\\\"
   ]
  },
  {
   "cell_type": "markdown",
   "id": "686eb188",
   "metadata": {},
   "source": [
    "### 4. The string \"Howl's Moving Castle\" is a correct value. Why isn't the single quote character in the word Howl's not escaped a problem?\n",
    "\n",
    "        howl's - single quote is right becoz double quote indicates string starting and ending point for compiler isnot \n",
    "        confused"
   ]
  },
  {
   "cell_type": "markdown",
   "id": "58b0a2c9",
   "metadata": {},
   "source": [
    "### 5. How do you write a string of newlines if you don't want to use the n character?\n",
    "         for getting new line you can use multilines instead of n-character"
   ]
  },
  {
   "cell_type": "code",
   "execution_count": 13,
   "id": "be69fe49",
   "metadata": {},
   "outputs": [
    {
     "name": "stdout",
     "output_type": "stream",
     "text": [
      "Ineuron is a bet platform\n",
      "which provides best courses with negligble course fees\n"
     ]
    }
   ],
   "source": [
    "x= '''Ineuron is a bet platform\n",
    "which provides best courses with negligble course fees'''\n",
    "print(x)"
   ]
  },
  {
   "cell_type": "markdown",
   "id": "6a7e2b8a",
   "metadata": {},
   "source": [
    "### 6. What are the values of the given expressions?\n",
    "\n",
    "    'Hello, world!'[1]      Ans. 'e'\n",
    "    'Hello, world!'[0:5]    Ans. 'Hello'\n",
    "    'Hello, world!'[:5]     Ans. 'Hello'\n",
    "    'Hello, world!'[3:]     Ans. 'lo, world!'\n"
   ]
  },
  {
   "cell_type": "code",
   "execution_count": 14,
   "id": "f652c132",
   "metadata": {},
   "outputs": [
    {
     "data": {
      "text/plain": [
       "'e'"
      ]
     },
     "execution_count": 14,
     "metadata": {},
     "output_type": "execute_result"
    }
   ],
   "source": [
    "'Hello, world!'[1]"
   ]
  },
  {
   "cell_type": "code",
   "execution_count": 15,
   "id": "1b3ec241",
   "metadata": {},
   "outputs": [
    {
     "data": {
      "text/plain": [
       "'Hello'"
      ]
     },
     "execution_count": 15,
     "metadata": {},
     "output_type": "execute_result"
    }
   ],
   "source": [
    "'Hello, world!'[0:5]"
   ]
  },
  {
   "cell_type": "code",
   "execution_count": 16,
   "id": "b65658e0",
   "metadata": {},
   "outputs": [
    {
     "data": {
      "text/plain": [
       "'Hello'"
      ]
     },
     "execution_count": 16,
     "metadata": {},
     "output_type": "execute_result"
    }
   ],
   "source": [
    "'Hello, world!'[:5]"
   ]
  },
  {
   "cell_type": "code",
   "execution_count": 17,
   "id": "752362ad",
   "metadata": {},
   "outputs": [
    {
     "data": {
      "text/plain": [
       "'lo, world!'"
      ]
     },
     "execution_count": 17,
     "metadata": {},
     "output_type": "execute_result"
    }
   ],
   "source": [
    "'Hello, world!'[3:]"
   ]
  },
  {
   "cell_type": "markdown",
   "id": "f283b748",
   "metadata": {},
   "source": [
    "### 7. What are the values of the following expressions?\n",
    "\n",
    "    'Hello'.upper()\n",
    "    'Hello'.upper().isupper()\n",
    "    'Hello'.upper().lower()\n"
   ]
  },
  {
   "cell_type": "code",
   "execution_count": 18,
   "id": "fb7816b5",
   "metadata": {},
   "outputs": [
    {
     "data": {
      "text/plain": [
       "'HELLO'"
      ]
     },
     "execution_count": 18,
     "metadata": {},
     "output_type": "execute_result"
    }
   ],
   "source": [
    "'Hello'.upper()  # it converts all characcter into captical character"
   ]
  },
  {
   "cell_type": "code",
   "execution_count": 19,
   "id": "bacb50b7",
   "metadata": {},
   "outputs": [
    {
     "data": {
      "text/plain": [
       "True"
      ]
     },
     "execution_count": 19,
     "metadata": {},
     "output_type": "execute_result"
    }
   ],
   "source": [
    "'Hello'.upper().isupper() # checks charcter in capital or not"
   ]
  },
  {
   "cell_type": "code",
   "execution_count": 20,
   "id": "e2b2f27a",
   "metadata": {},
   "outputs": [
    {
     "data": {
      "text/plain": [
       "'hello'"
      ]
     },
     "execution_count": 20,
     "metadata": {},
     "output_type": "execute_result"
    }
   ],
   "source": [
    "'Hello'.upper().lower() # first converts into capital then small character"
   ]
  },
  {
   "cell_type": "markdown",
   "id": "631e16c9",
   "metadata": {},
   "source": [
    "### 8. What are the values of the following expressions?\n",
    "\n",
    "    'Remember, remember, the fifth of July.'.split()\n",
    "    '-'.join('There can only one.'.split())\n"
   ]
  },
  {
   "cell_type": "code",
   "execution_count": 22,
   "id": "7441b0b8",
   "metadata": {},
   "outputs": [
    {
     "data": {
      "text/plain": [
       "['Remember,', 'remember,', 'the', 'fifth', 'of', 'July.']"
      ]
     },
     "execution_count": 22,
     "metadata": {},
     "output_type": "execute_result"
    }
   ],
   "source": [
    "'Remember, remember, the fifth of July.'.split() # breaks string and returns list "
   ]
  },
  {
   "cell_type": "code",
   "execution_count": 23,
   "id": "13a2abbb",
   "metadata": {},
   "outputs": [
    {
     "data": {
      "text/plain": [
       "'There-can-only-one.'"
      ]
     },
     "execution_count": 23,
     "metadata": {},
     "output_type": "execute_result"
    }
   ],
   "source": [
    "'-'.join('There can only one.'.split()) # it first converted into list by using split() then join() which returns string i.e reverse of split()"
   ]
  },
  {
   "cell_type": "markdown",
   "id": "cc8ef38a",
   "metadata": {},
   "source": [
    "### 9. What are the methods for right-justifying, left-justifying, and centering a string?¶\n",
    "        rjust()\n",
    "        ljust()\n",
    "        center()"
   ]
  },
  {
   "cell_type": "code",
   "execution_count": 24,
   "id": "d19b4c23",
   "metadata": {},
   "outputs": [],
   "source": [
    "a= 'rasmi'\n"
   ]
  },
  {
   "cell_type": "code",
   "execution_count": 29,
   "id": "ff290d0d",
   "metadata": {},
   "outputs": [
    {
     "data": {
      "text/plain": [
       "'     rasmi'"
      ]
     },
     "execution_count": 29,
     "metadata": {},
     "output_type": "execute_result"
    }
   ],
   "source": [
    "a.rjust(10) # it creats a string which length is 10 to full filled this condition it added space in left side"
   ]
  },
  {
   "cell_type": "code",
   "execution_count": 30,
   "id": "d03adcc7",
   "metadata": {},
   "outputs": [
    {
     "data": {
      "text/plain": [
       "10"
      ]
     },
     "execution_count": 30,
     "metadata": {},
     "output_type": "execute_result"
    }
   ],
   "source": [
    "len(a.rjust(10))"
   ]
  },
  {
   "cell_type": "code",
   "execution_count": 33,
   "id": "0c9293c3",
   "metadata": {},
   "outputs": [
    {
     "data": {
      "text/plain": [
       "'@@@@@rasmi'"
      ]
     },
     "execution_count": 33,
     "metadata": {},
     "output_type": "execute_result"
    }
   ],
   "source": [
    "a.rjust(10,'@')"
   ]
  },
  {
   "cell_type": "code",
   "execution_count": 34,
   "id": "c1e27f59",
   "metadata": {},
   "outputs": [
    {
     "data": {
      "text/plain": [
       "'rasmi     '"
      ]
     },
     "execution_count": 34,
     "metadata": {},
     "output_type": "execute_result"
    }
   ],
   "source": [
    "a.ljust(10)  # it is the opposite of  rjust()"
   ]
  },
  {
   "cell_type": "code",
   "execution_count": 35,
   "id": "ee20cb97",
   "metadata": {},
   "outputs": [
    {
     "data": {
      "text/plain": [
       "'rasmi-----'"
      ]
     },
     "execution_count": 35,
     "metadata": {},
     "output_type": "execute_result"
    }
   ],
   "source": [
    "a.ljust(10,'-')  # "
   ]
  },
  {
   "cell_type": "code",
   "execution_count": 36,
   "id": "c692da7e",
   "metadata": {},
   "outputs": [
    {
     "data": {
      "text/plain": [
       "'  rasmi   '"
      ]
     },
     "execution_count": 36,
     "metadata": {},
     "output_type": "execute_result"
    }
   ],
   "source": [
    "a.center(10)"
   ]
  },
  {
   "cell_type": "code",
   "execution_count": 37,
   "id": "de0a8788",
   "metadata": {},
   "outputs": [
    {
     "data": {
      "text/plain": [
       "'--rasmi---'"
      ]
     },
     "execution_count": 37,
     "metadata": {},
     "output_type": "execute_result"
    }
   ],
   "source": [
    "a.center(10,'-')"
   ]
  },
  {
   "cell_type": "markdown",
   "id": "4e138003",
   "metadata": {},
   "source": [
    "### 10. What is the best way to remove whitespace characters from the start or end?\n",
    "            lstrip()  :-  remove whitesapce characters from the left/start ends of a string \n",
    "            rstrip()  :-  remove whitesapce characters right ends of a string "
   ]
  },
  {
   "cell_type": "code",
   "execution_count": 38,
   "id": "1f5715b1",
   "metadata": {},
   "outputs": [
    {
     "data": {
      "text/plain": [
       "'rout'"
      ]
     },
     "execution_count": 38,
     "metadata": {},
     "output_type": "execute_result"
    }
   ],
   "source": [
    "x= '    rout'\n",
    "x.lstrip()"
   ]
  },
  {
   "cell_type": "code",
   "execution_count": 39,
   "id": "154e8541",
   "metadata": {},
   "outputs": [
    {
     "data": {
      "text/plain": [
       "'rout'"
      ]
     },
     "execution_count": 39,
     "metadata": {},
     "output_type": "execute_result"
    }
   ],
   "source": [
    "y= 'rout    '\n",
    "y.rstrip()"
   ]
  },
  {
   "cell_type": "code",
   "execution_count": null,
   "id": "b504d00c",
   "metadata": {},
   "outputs": [],
   "source": []
  }
 ],
 "metadata": {
  "kernelspec": {
   "display_name": "Python 3",
   "language": "python",
   "name": "python3"
  },
  "language_info": {
   "codemirror_mode": {
    "name": "ipython",
    "version": 3
   },
   "file_extension": ".py",
   "mimetype": "text/x-python",
   "name": "python",
   "nbconvert_exporter": "python",
   "pygments_lexer": "ipython3",
   "version": "3.8.8"
  }
 },
 "nbformat": 4,
 "nbformat_minor": 5
}
