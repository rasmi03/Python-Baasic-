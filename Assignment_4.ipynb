{
 "cells": [
  {
   "cell_type": "markdown",
   "id": "cb6f4e21",
   "metadata": {},
   "source": [
    "### 1. What exactly is [] ?\n",
    "            []  it is a list representation which has no value i.e empty list"
   ]
  },
  {
   "cell_type": "markdown",
   "id": "d8365f03",
   "metadata": {},
   "source": [
    "### 2. In a list of values stored in a variable called spam, how would you assign the value 'hello' as the third value? (Assume [2, 4, 6, 8, 10] are in spam.)"
   ]
  },
  {
   "cell_type": "code",
   "execution_count": null,
   "id": "ba727501",
   "metadata": {},
   "outputs": [],
   "source": [
    "spam= [2,4,6,8,10]"
   ]
  },
  {
   "cell_type": "code",
   "execution_count": null,
   "id": "b0e9cc2f",
   "metadata": {},
   "outputs": [],
   "source": [
    "spam"
   ]
  },
  {
   "cell_type": "code",
   "execution_count": null,
   "id": "6305b8df",
   "metadata": {},
   "outputs": [],
   "source": [
    "spam[2]  # list indexing started from zero"
   ]
  },
  {
   "cell_type": "code",
   "execution_count": null,
   "id": "dcd43ea7",
   "metadata": {},
   "outputs": [],
   "source": [
    "spam[2]='hello'  # here 3rd element assign as hello\n",
    "spam"
   ]
  },
  {
   "cell_type": "markdown",
   "id": "36f1db9f",
   "metadata": {},
   "source": [
    "### Let's pretend the spam includes the list ['a', 'b', 'c', 'd'] for the next three queries.\n",
    "       3. What is the value of spam[int(int('3' * 2) / 11)]?     Ans-'d'\n",
    "       4. What is the value of spam[-1]?                         Ans-  'd'\n",
    "       5. What is the value of spam[:2]?                         Ans- ['a','b']\n",
    "    \n",
    "         details as folllows"
   ]
  },
  {
   "cell_type": "code",
   "execution_count": null,
   "id": "86d927ea",
   "metadata": {},
   "outputs": [],
   "source": [
    "spam= ['a','b','c','d']"
   ]
  },
  {
   "cell_type": "code",
   "execution_count": null,
   "id": "a2b6ba59",
   "metadata": {},
   "outputs": [],
   "source": [
    "'3'*2    #string multiplication"
   ]
  },
  {
   "cell_type": "code",
   "execution_count": null,
   "id": "51925833",
   "metadata": {},
   "outputs": [],
   "source": [
    "int('3'*2)  # string to int type"
   ]
  },
  {
   "cell_type": "code",
   "execution_count": null,
   "id": "80e479a6",
   "metadata": {},
   "outputs": [],
   "source": [
    "int(int('3'*2)/11)"
   ]
  },
  {
   "cell_type": "code",
   "execution_count": null,
   "id": "8f4e36a1",
   "metadata": {},
   "outputs": [],
   "source": [
    "spam[3]"
   ]
  },
  {
   "cell_type": "code",
   "execution_count": null,
   "id": "74093214",
   "metadata": {},
   "outputs": [],
   "source": [
    "spam[int(int('3'*2)/11)]"
   ]
  },
  {
   "cell_type": "code",
   "execution_count": null,
   "id": "93aae85a",
   "metadata": {},
   "outputs": [],
   "source": [
    "spam[-1]  # list support -ve indexing i.e starting from end of list towards left  like (-1,-2,-3....)"
   ]
  },
  {
   "cell_type": "code",
   "execution_count": null,
   "id": "6d73cc3c",
   "metadata": {},
   "outputs": [],
   "source": [
    "spam[:2] # includes from starting point and excluding end specified index , here is 2"
   ]
  },
  {
   "cell_type": "markdown",
   "id": "9277e7a1",
   "metadata": {},
   "source": [
    "### Let's pretend bacon has the list [3.14, 'cat,' 11, 'cat,' True] for the next three questions.\n",
    "    6.What is the value of bacon.index('cat')?                               Ans-  1\n",
    "    \n",
    "    7.How does bacon.append(99) change the look of the list value in bacon?  Ans- [3.14, 'cat', 11, 'cat', True, 99]\n",
    "    \n",
    "    8.How does bacon.remove('cat') change the look of the list in bacon?      Ans- [3.14, 11, 'cat', True, 99]\n",
    "     Details as follows"
   ]
  },
  {
   "cell_type": "code",
   "execution_count": null,
   "id": "4d827931",
   "metadata": {},
   "outputs": [],
   "source": [
    "bacon= [3.14, 'cat', 11, 'cat' ,True] "
   ]
  },
  {
   "cell_type": "code",
   "execution_count": null,
   "id": "3ebc3e10",
   "metadata": {},
   "outputs": [],
   "source": [
    "bacon.index('cat')  # index method returns the index of first occuerence of 'cat'"
   ]
  },
  {
   "cell_type": "code",
   "execution_count": null,
   "id": "b2e364c3",
   "metadata": {},
   "outputs": [],
   "source": [
    "bacon.append(99)  # append -  element added at the end of the list\n",
    "bacon"
   ]
  },
  {
   "cell_type": "code",
   "execution_count": null,
   "id": "75a0cef1",
   "metadata": {},
   "outputs": [],
   "source": [
    "bacon.remove('cat')  # removed first occurence element 'cat'\n",
    "bacon"
   ]
  },
  {
   "cell_type": "markdown",
   "id": "b36294ea",
   "metadata": {},
   "source": [
    "### 9. What are the list concatenation and list replication operators?"
   ]
  },
  {
   "cell_type": "code",
   "execution_count": null,
   "id": "70d806e7",
   "metadata": {},
   "outputs": [],
   "source": [
    " l1= [3,5,6,7,'agh',True]"
   ]
  },
  {
   "cell_type": "code",
   "execution_count": null,
   "id": "cf366b97",
   "metadata": {},
   "outputs": [],
   "source": [
    "l2 = [9,8,11,'iargh','rasmi']"
   ]
  },
  {
   "cell_type": "code",
   "execution_count": null,
   "id": "ae48cafe",
   "metadata": {},
   "outputs": [],
   "source": [
    "l1+l2  # list concatenation means list addtion"
   ]
  },
  {
   "cell_type": "code",
   "execution_count": null,
   "id": "2dc86382",
   "metadata": {},
   "outputs": [],
   "source": [
    "l1*2    #  list replication"
   ]
  },
  {
   "cell_type": "code",
   "execution_count": null,
   "id": "bff06c85",
   "metadata": {},
   "outputs": [],
   "source": []
  },
  {
   "cell_type": "markdown",
   "id": "cf0f9320",
   "metadata": {},
   "source": [
    "### 10. What is difference between the list methods append() and insert()?¶\n",
    "\n",
    "            append() - Adding elements at the end position of the list\n",
    "            \n",
    "            ensert()- it also added element in the list at a particular index number(position) which is given by user"
   ]
  },
  {
   "cell_type": "code",
   "execution_count": null,
   "id": "3462c0b4",
   "metadata": {},
   "outputs": [],
   "source": [
    "l1= [3,5,6,7,'agh',True]"
   ]
  },
  {
   "cell_type": "code",
   "execution_count": null,
   "id": "abbfbd51",
   "metadata": {},
   "outputs": [],
   "source": [
    "l1.append(89)\n",
    "l1"
   ]
  },
  {
   "cell_type": "code",
   "execution_count": null,
   "id": "f20cad2a",
   "metadata": {},
   "outputs": [],
   "source": [
    "l1.insert(2,'rasmi')  #   here 2- index no"
   ]
  },
  {
   "cell_type": "code",
   "execution_count": null,
   "id": "7db7b8e9",
   "metadata": {},
   "outputs": [],
   "source": [
    "l1"
   ]
  },
  {
   "cell_type": "markdown",
   "id": "33a22764",
   "metadata": {},
   "source": [
    "### 11. What are the two methods for removing items from a list?\n",
    "\n",
    "            Ans: del  and  remove() these two method  remove values from a list\n",
    "               "
   ]
  },
  {
   "cell_type": "markdown",
   "id": "d6f55fdf",
   "metadata": {},
   "source": [
    "### 12. Describe how list values and string values are identical.\n",
    "                 ans- both are sequences\n",
    "          "
   ]
  },
  {
   "cell_type": "markdown",
   "id": "0a58ca1f",
   "metadata": {},
   "source": [
    "### 13. What's the difference between tuples and lists?¶\n",
    "         List-  created by using square bracket i.e []   and  mutable means we can change or modify the values or elements\n",
    "         Tuples-  created by using paranthesis i.e ()  and  immutable means canot change or modify elements\n",
    "         \n",
    "         details with exampls as follows"
   ]
  },
  {
   "cell_type": "code",
   "execution_count": null,
   "id": "1649319f",
   "metadata": {},
   "outputs": [],
   "source": [
    "l1= [3,5,6,7,'rasmi',True]  # this is a list"
   ]
  },
  {
   "cell_type": "code",
   "execution_count": null,
   "id": "05a14d73",
   "metadata": {},
   "outputs": [],
   "source": [
    "l1[1]= 'rout' # here removed 1th index element by 'rout' so it is mutable\n",
    "l1"
   ]
  },
  {
   "cell_type": "code",
   "execution_count": null,
   "id": "12d2a6d5",
   "metadata": {},
   "outputs": [],
   "source": [
    "A=(3,5,6,7,'rasmi',True) # this is a tuple"
   ]
  },
  {
   "cell_type": "code",
   "execution_count": null,
   "id": "d138300d",
   "metadata": {},
   "outputs": [],
   "source": [
    "A[1]= 'rout' # here get error means we canot modify so it is immutable\n",
    "A"
   ]
  },
  {
   "cell_type": "markdown",
   "id": "7044ed75",
   "metadata": {},
   "source": [
    "### 14. How do you type a tuple value that only contains the integer 42?\n",
    "\n",
    "            trailing comma (42,) should be used otherwise it treated as int by python interpreter\n",
    "            \n",
    "            Details as follows"
   ]
  },
  {
   "cell_type": "code",
   "execution_count": null,
   "id": "87cd679e",
   "metadata": {},
   "outputs": [],
   "source": [
    "t1 = (42)\n",
    "type(t1)  # it gives datatype is int "
   ]
  },
  {
   "cell_type": "code",
   "execution_count": null,
   "id": "6aeb6c74",
   "metadata": {},
   "outputs": [],
   "source": [
    "t2 = (42,)\n",
    "type(t2)   # here we get datatype is tuple"
   ]
  },
  {
   "cell_type": "markdown",
   "id": "8aca1789",
   "metadata": {},
   "source": [
    "### 15. How do you get a list value's tuple form? How do you get a tuple value's list form?\n",
    "\n",
    "            "
   ]
  },
  {
   "cell_type": "code",
   "execution_count": null,
   "id": "99546522",
   "metadata": {},
   "outputs": [],
   "source": [
    "l2 = [9,8,11,'iargh','rasmi']\n",
    "type(l2)"
   ]
  },
  {
   "cell_type": "code",
   "execution_count": 20,
   "id": "e31dd65c",
   "metadata": {},
   "outputs": [
    {
     "data": {
      "text/plain": [
       "(9, 8, 11, 'iargh', 'rasmi')"
      ]
     },
     "execution_count": 20,
     "metadata": {},
     "output_type": "execute_result"
    }
   ],
   "source": [
    "tuple(l2) #  conversation from list to tuple "
   ]
  },
  {
   "cell_type": "code",
   "execution_count": 21,
   "id": "e540a5fd",
   "metadata": {},
   "outputs": [
    {
     "data": {
      "text/plain": [
       "tuple"
      ]
     },
     "execution_count": 21,
     "metadata": {},
     "output_type": "execute_result"
    }
   ],
   "source": [
    "type(tuple(l2))"
   ]
  },
  {
   "cell_type": "code",
   "execution_count": null,
   "id": "34c48ade",
   "metadata": {},
   "outputs": [],
   "source": [
    "T=(3,5,6,7,'rasmi',True)\n",
    "type(T)"
   ]
  },
  {
   "cell_type": "code",
   "execution_count": null,
   "id": "d084144c",
   "metadata": {},
   "outputs": [],
   "source": [
    "list(T)  # conversation  tuple to list"
   ]
  },
  {
   "cell_type": "code",
   "execution_count": null,
   "id": "d468c089",
   "metadata": {},
   "outputs": [],
   "source": [
    "type(list(T))"
   ]
  },
  {
   "cell_type": "markdown",
   "id": "4e530f3a",
   "metadata": {},
   "source": [
    "### 16. Variables that \"contain\" list values are not necessarily lists themselves. Instead, what do they contain?\n",
    "                ans-They contain references to list values."
   ]
  },
  {
   "cell_type": "markdown",
   "id": "0be6fb33",
   "metadata": {},
   "source": [
    "### 17. How do you distinguish between copy.copy() and copy.deepcopy()?\n",
    "              The `copy.copy()` function will do a shallow copy of a list,\n",
    "              while the `copy.deepcopy()` function will do a deep copy of a list.\n",
    "              That is, only `copy.deepcopy()` will duplicate any lists inside the list."
   ]
  },
  {
   "cell_type": "code",
   "execution_count": null,
   "id": "08e218d5",
   "metadata": {},
   "outputs": [],
   "source": []
  }
 ],
 "metadata": {
  "kernelspec": {
   "display_name": "Python 3",
   "language": "python",
   "name": "python3"
  },
  "language_info": {
   "codemirror_mode": {
    "name": "ipython",
    "version": 3
   },
   "file_extension": ".py",
   "mimetype": "text/x-python",
   "name": "python",
   "nbconvert_exporter": "python",
   "pygments_lexer": "ipython3",
   "version": "3.8.8"
  }
 },
 "nbformat": 4,
 "nbformat_minor": 5
}
