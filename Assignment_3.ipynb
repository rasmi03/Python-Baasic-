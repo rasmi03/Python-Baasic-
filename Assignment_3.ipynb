{
 "cells": [
  {
   "cell_type": "markdown",
   "id": "09393320",
   "metadata": {},
   "source": [
    "### 1. Why are functions advantageous to have in your programs?\n",
    "         !. Entire programme can be divided into small independed module then it becomes easily readable and manageable\n",
    "         2. No need for repeataion of code\n",
    "         3.codes are Reusability."
   ]
  },
  {
   "cell_type": "markdown",
   "id": "9b42df06",
   "metadata": {},
   "source": [
    "### 2. When does the code in a function run: when it's specified or when it's called?\n",
    "              The code in the function run when a function is called "
   ]
  },
  {
   "cell_type": "markdown",
   "id": "8f7196b2",
   "metadata": {},
   "source": [
    "###  3. What statement creates a function?\n",
    "            The def keywod define a function.\n",
    "                 def name_of_function(parameters):\n",
    "                           return values\n",
    "            "
   ]
  },
  {
   "cell_type": "markdown",
   "id": "168cfa5f",
   "metadata": {},
   "source": [
    "### 4. What is the difference between a function and a function call?\n",
    "\n",
    "             function is a peice of code to achive  some task when function call then it will perform some task to achive                    that task"
   ]
  },
  {
   "cell_type": "markdown",
   "id": "4e929eae",
   "metadata": {},
   "source": [
    "### 5. In a Python application, how many global scopes are there? How many local scopes are there?\n",
    "\n",
    "            There is one global scope, and a local scope is created whenever a function is called."
   ]
  },
  {
   "cell_type": "markdown",
   "id": "6c16f7f3",
   "metadata": {},
   "source": [
    "### 6. When a function call returns, what happens to variables in the local scope?\n",
    "          when a function call returns then   Local variables are destroyed "
   ]
  },
  {
   "cell_type": "markdown",
   "id": "1167719b",
   "metadata": {},
   "source": [
    "### 7. What is the concept of a return value? Is it possible to have a return value in an expression?\n",
    "         return statement is used to return  values from the function\n",
    "         it can be used as a part of expression"
   ]
  },
  {
   "cell_type": "markdown",
   "id": "175b9bf7",
   "metadata": {},
   "source": [
    "### 8. What is the return value of a call to a function that does not have a return statement?\n",
    "              Return value is None"
   ]
  },
  {
   "cell_type": "markdown",
   "id": "d6b38571",
   "metadata": {},
   "source": [
    "### 9. How do you make a function variable refer to the global variable?\n",
    "           Global variable is a variable which is not connected to any particular function \n",
    "           i.e it is free to be called in any function and also be reused.\n",
    "           Therefore to refer a function variable to global variable we use global keyword to declare which variable are \n",
    "           global\n",
    "            "
   ]
  },
  {
   "cell_type": "markdown",
   "id": "84ec6683",
   "metadata": {},
   "source": [
    "### 10. What is the data type of None?\n",
    "         The data type of None is None Type."
   ]
  },
  {
   "cell_type": "code",
   "execution_count": 1,
   "id": "52f717a6",
   "metadata": {},
   "outputs": [
    {
     "data": {
      "text/plain": [
       "NoneType"
      ]
     },
     "execution_count": 1,
     "metadata": {},
     "output_type": "execute_result"
    }
   ],
   "source": [
    "type(None)"
   ]
  },
  {
   "cell_type": "markdown",
   "id": "6eb7eac5",
   "metadata": {},
   "source": [
    "### 11. What does the sentence import areallyourpetsnamederic do?\n",
    "            it will import areallyourpetnamederic module."
   ]
  },
  {
   "cell_type": "markdown",
   "id": "b789fc04",
   "metadata": {},
   "source": [
    "### 12. If you had a bacon() feature in a spam module, what would you call it after importing spam?\n",
    "           spam.bacon()\n"
   ]
  },
  {
   "cell_type": "markdown",
   "id": "31384c2d",
   "metadata": {},
   "source": [
    "### 13. What can you do to save a programme from crashing if it encounters an error?\n",
    "           i will  use try and except"
   ]
  },
  {
   "cell_type": "markdown",
   "id": "6298f456",
   "metadata": {},
   "source": [
    "### 14. What is the purpose of the try clause? What is the purpose of the except clause?\n",
    "            Place the line of code that might cause an error in a try clause and use except block to handle the error."
   ]
  }
 ],
 "metadata": {
  "kernelspec": {
   "display_name": "Python 3",
   "language": "python",
   "name": "python3"
  },
  "language_info": {
   "codemirror_mode": {
    "name": "ipython",
    "version": 3
   },
   "file_extension": ".py",
   "mimetype": "text/x-python",
   "name": "python",
   "nbconvert_exporter": "python",
   "pygments_lexer": "ipython3",
   "version": "3.8.8"
  }
 },
 "nbformat": 4,
 "nbformat_minor": 5
}
