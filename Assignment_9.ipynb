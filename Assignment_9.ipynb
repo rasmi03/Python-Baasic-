{
 "cells": [
  {
   "cell_type": "markdown",
   "id": "cd3ff9e9",
   "metadata": {},
   "source": [
    "### 1. To what does a relative path refer?\n",
    "        which is relative to the program’s current working directory\n",
    "        example graduate\\B.tech_mech.doccx"
   ]
  },
  {
   "cell_type": "markdown",
   "id": "3a21ef12",
   "metadata": {},
   "source": [
    "### 2. What is the first step on an absolute path?\n",
    "            Absolute paths start with the root folder, such as / or C:\\\n",
    "                                    /  for linux operator\n",
    "                                    c:\\  for windows operator\n",
    "            "
   ]
  },
  {
   "cell_type": "markdown",
   "id": "a5176625",
   "metadata": {},
   "source": [
    "### 3. On Windows, what does Path('C:/Users') / 'Al' evaluate to?\n",
    "                it evaluates windows path"
   ]
  },
  {
   "cell_type": "markdown",
   "id": "cc2de5c1",
   "metadata": {},
   "source": [
    "### 4. On Windows, what does 'C:/Users' / 'Al' evaluate to?\n",
    "            It gives an error becoz string concatination not possible by / operattor\n"
   ]
  },
  {
   "cell_type": "markdown",
   "id": "88d70a84",
   "metadata": {},
   "source": [
    "### 5. What do the functions os.getcwd() and os.chdir() do?\n",
    "        os.getcwd() -  it gices the location of the cuurent working directory\n",
    "        os.chdir()   - it changes path of the current working directory"
   ]
  },
  {
   "cell_type": "markdown",
   "id": "e5a2e2bd",
   "metadata": {},
   "source": [
    "### 6. What is the difference between the. and.. folders?\n",
    "        .  -it reprsents current directory\n",
    "        ..  -it represts root folder or parent folder of the current directory"
   ]
  },
  {
   "cell_type": "markdown",
   "id": "222869a0",
   "metadata": {},
   "source": [
    "### 7. Which part of C:bacon eggs\\spam.txt is the dir name and which part is the base name?\n",
    "            The dir name is C:\\\\bacon\\\\eggs\n",
    "            The Base name is spam.txt\n"
   ]
  },
  {
   "cell_type": "markdown",
   "id": "5f66d7e8",
   "metadata": {},
   "source": [
    "### 8. What are the three “mode” arguments that the open() function accepts?\n",
    "        in python file can accesed by using syntax  open(file_name , mode of operation)\n",
    "                                here modeof operation is optional by default it takes read\n",
    "        There are several types of operation out of them three mode are as follows\n",
    "        \n",
    "            r – Read Mode: This is the default mode for open(). \n",
    "                 The file is opened and a pointer is positioned at the beginning of the file’s content.\n",
    "            w – Write Mode: Using this mode will overwrite any existing content in a file. If the given file does not exist,\n",
    "                  a new one will be created.\n",
    "            a – Append Mode: With this mode the user can append the data without overwriting any already existing \n",
    "                   data in the file."
   ]
  },
  {
   "cell_type": "markdown",
   "id": "93894294",
   "metadata": {},
   "source": [
    "### 9. What happens if you open existing file in write mode?\n",
    "            in this mode file opened with overwritten and new one is created"
   ]
  },
  {
   "cell_type": "markdown",
   "id": "518b72d2",
   "metadata": {},
   "source": [
    "### 10. How do you tell the difference between read() and readlines()?\n",
    "            read() - it reads whole opened file\n",
    "                     Syntax- file_name.read(count)  -Here count is optional parameters\n",
    "                             which specifies the number of byts to be read\n",
    "                             \n",
    "           readline() - it reads a single line of the opened file                  "
   ]
  },
  {
   "cell_type": "markdown",
   "id": "16f32063",
   "metadata": {},
   "source": [
    "### 11. How does a shelf value resemble a data structure?\n",
    "        it contains key and values it represents dictionary."
   ]
  }
 ],
 "metadata": {
  "kernelspec": {
   "display_name": "Python 3",
   "language": "python",
   "name": "python3"
  },
  "language_info": {
   "codemirror_mode": {
    "name": "ipython",
    "version": 3
   },
   "file_extension": ".py",
   "mimetype": "text/x-python",
   "name": "python",
   "nbconvert_exporter": "python",
   "pygments_lexer": "ipython3",
   "version": "3.8.8"
  }
 },
 "nbformat": 4,
 "nbformat_minor": 5
}
