{
 "cells": [
  {
   "cell_type": "markdown",
   "id": "8a845e7f",
   "metadata": {},
   "source": [
    "# Q-1 . What are the differences between operators and values in the following?\n",
    "###       *   ,     'hello'   , -87.8 ,   -  , + ,  6\n"
   ]
  },
  {
   "cell_type": "markdown",
   "id": "3a2826be",
   "metadata": {},
   "source": [
    "## ans-   'hello' , -87.8 , 6    are Values (string,-ve,+ve integers - Datatypes)\n",
    "##               * ,       - ,       +    are Mathematical operators"
   ]
  },
  {
   "cell_type": "markdown",
   "id": "ac986e2f",
   "metadata": {},
   "source": [
    "## Q2. What is the difference between string and variable?\n",
    "###   spam\n",
    "###  'spam'\n"
   ]
  },
  {
   "cell_type": "markdown",
   "id": "56df6f0f",
   "metadata": {},
   "source": [
    "## Ans :-  \n",
    "###          String- is a DataType which is used to store String Values \n",
    "###         For Example: 'spam'\n",
    "####                      So    'spam' is a String enclosed in  Quotes\n",
    "                      \n",
    "                      \n",
    "###      Varibale is a kind of storage of information/values.\n",
    "###      It can store data of any kind like int float complex str tuples list and many more  \n",
    "####     For Example:  spam"
   ]
  },
  {
   "cell_type": "markdown",
   "id": "9d4e9a20",
   "metadata": {},
   "source": [
    "## Q3. Describe three different data forms.\n",
    "### Ans:-  \n",
    "#### 1. str   -  For storing String Values. \n",
    "####                                                              Example: x = 'litu'\n",
    "####                                                                               X is a variable storing \"litu\" value as String\n",
    "       \n",
    "#### 2. int   - For storing Integer Values. \n",
    "####                                                        Example: x = -25\n",
    "####                                                                              X is a variable storing Negative Integer value \n",
    "\n",
    "#### 3. bool  -  For storing Boolean Values. It Stores True ~ 1 and  False ~ 0 as a value\n",
    "#####                                                               Example: y = True\n",
    "####                                                                          y is a variable storing True as Boolean value"
   ]
  },
  {
   "cell_type": "markdown",
   "id": "750b8b9a",
   "metadata": {},
   "source": [
    "## Q4. What makes up an expression? What are the functions of all expressions?\n",
    "\n",
    "## Ans:- \n",
    "\n",
    "####  Expression is that evaluates to a single value which is a combination of  Operators ,Operands and methods which are constructed based on the language used.\n",
    "#### Operators are:\n",
    "####    Arithmetic Operators :: + - * /\n",
    "####    Comparision Operators :: < > <= >= == !=\n",
    "####    Logical Operators :: and or not                                                           and many more.\n",
    " \n"
   ]
  },
  {
   "cell_type": "markdown",
   "id": "7fbd166d",
   "metadata": {},
   "source": [
    "## Q5. In this chapter, assignment statements such as spam = 10 were added. What's the difference between a declaration and an expression?\n",
    "\n",
    "## Ans:-\n",
    "\n",
    "####    Statement:- it represents an action or command  e.g print statements, assignment statements.\n",
    "\n",
    "####  Ex1:         print('Hello')    O/P: Hello\n",
    "    \n",
    "####  Ex2:     x = 456  \n",
    "####  here  spam = 10 is an example of Statement as value 10 is been assigned to variable \"spam\"  \n",
    "\n",
    "\n",
    "#### Expression :- it is a combination of variables, operations and values that give a result value.\n",
    "####  Ex-  5*5     o/p-25"
   ]
  },
  {
   "cell_type": "code",
   "execution_count": null,
   "id": "3f9eb716",
   "metadata": {},
   "outputs": [],
   "source": []
  }
 ],
 "metadata": {
  "kernelspec": {
   "display_name": "Python 3",
   "language": "python",
   "name": "python3"
  },
  "language_info": {
   "codemirror_mode": {
    "name": "ipython",
    "version": 3
   },
   "file_extension": ".py",
   "mimetype": "text/x-python",
   "name": "python",
   "nbconvert_exporter": "python",
   "pygments_lexer": "ipython3",
   "version": "3.8.8"
  }
 },
 "nbformat": 4,
 "nbformat_minor": 5
}
